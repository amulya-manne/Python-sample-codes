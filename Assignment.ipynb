{
 "cells": [
  {
   "cell_type": "markdown",
   "metadata": {},
   "source": [
    "# <center>PGP Data Science Engineering</center>\n",
    "## <center>Introduction to Programming – Mini Project:</center>\n"
   ]
  },
  {
   "cell_type": "markdown",
   "metadata": {},
   "source": [
    "### Problem 1:\n",
    "\n",
    "1. Write a program to calculate area of shapes. Your program should be capable of calculating the area of a square, rectangle, triangle and a circle. The user should be presented with options to select the shape. Based on which shape is chosed by the user, the program should ask for the appropriate input and print the resulting area on the screen.\n",
    "\n",
    "When the program is run, the screen should display something like this:\n",
    "\n",
    "**Which shape would you like to calculate the area for? Please enter the option number-**<br>\n",
    "**1. Square**<br>\n",
    "**2. Rectangle**<br>\n",
    "**3. Triangle**<br>\n",
    "**4. Circle**<br>\n",
    "**Enter Option: _**\n",
    "\n",
    "Say the user enters the option 1.\n",
    "\n",
    "**Please enter the length of a side: _**\n",
    "\n",
    "If the user enters a value of 5. The output should be:\n",
    "\n",
    "**The area of the square is 25**\n",
    "\n",
    "This program should indicate that the input is invalid if the user enters a character instead of a number as input. For instance if the user enters a value of ‘a’ instead of 5 in the previous example the program should prompt:\n",
    "\n",
    "**Invalid input, please enter a number: _**\n"
   ]
  },
  {
   "cell_type": "code",
   "execution_count": 1,
   "metadata": {},
   "outputs": [
    {
     "name": "stdout",
     "output_type": "stream",
     "text": [
      "Which shape would you like to calculate the area for? Please enter the option number-!\n",
      "1. Square\n",
      "2. Rectangle\n",
      "3. Triangle\n",
      "4. Circle:\n",
      "Enter Option 3\n",
      "Please enter height of the triangle : a\n",
      "Please enter a valid number\n",
      "Please enter height of the triangle : a\n",
      "Please enter a valid number\n",
      "Please enter height of the triangle : a\n",
      "Please enter a valid number\n",
      "Please enter height of the triangle : 2\n",
      "Please enter breadth of the triangle : 3\n",
      "The area of triangle is : 3.0\n"
     ]
    }
   ],
   "source": [
    "print(\"Which shape would you like to calculate the area for? Please enter the option number-!\\n1. Square\\n2. Rectangle\\n3. Triangle\\n4. Circle:\")\n",
    "option = int(input(\"Enter Option \"))\n",
    "\n",
    "def square():\n",
    "    while True:\n",
    "        try:\n",
    "            n = int(input('Enter length of a side '))       \n",
    "        except ValueError:\n",
    "            print('Please enter a valid number')\n",
    "            continue\n",
    "        else:\n",
    "            print('The area of square is :', n*n) \n",
    "            break \n",
    "\n",
    "def rectangle():\n",
    "    while True:\n",
    "        try:\n",
    "            l=int(input(\"Please enter lenght of the rectangle : \"))\n",
    "            w=int(input(\"Please enter width of the rectangle : \"))       \n",
    "        except ValueError:\n",
    "            print('Please enter a valid number')\n",
    "            continue\n",
    "        else:\n",
    "            print('The area of rectangle is :', l*w) \n",
    "            break \n",
    "\n",
    "def triangle():\n",
    "    while True:\n",
    "        try:\n",
    "            h=int(input(\"Please enter height of the triangle : \"))\n",
    "            b=int(input(\"Please enter breadth of the triangle : \"))\n",
    "        except ValueError:\n",
    "            print('Please enter a valid number')\n",
    "            continue\n",
    "        else:\n",
    "            print('The area of triangle is :', h*b*0.5) \n",
    "            break \n",
    "    \n",
    "def circle(): \n",
    "    while True:\n",
    "        try:\n",
    "            r=int(input(\"Please enter radius of the circle : \"))\n",
    "        except ValueError:\n",
    "            print('Please enter a valid number')\n",
    "            continue\n",
    "        else:\n",
    "            print('The area of circle is :', 3.1417*r*r) \n",
    "            break \n",
    "    \n",
    "if option == 1:\n",
    "    square()\n",
    "elif option == 2:\n",
    "    rectangle()\n",
    "elif option == 3:\n",
    "    triangle()\n",
    "elif option == 4:\n",
    "    circle()"
   ]
  },
  {
   "cell_type": "markdown",
   "metadata": {},
   "source": [
    "### Problem 2:\n",
    "\n",
    "Create and encrypter in python based on the ceaser cipher. It is a substitution cipher where each character of the original text is shifted a certain number characters in the alphabet. Write a function that would require 2 arguments – the input text to be encrypted and a key. For eg: Given the input text ‘hello’ and the key 3, the resulting encryted text would be ‘khoor’. Here you can see that every character in the string hello is shifted by 3 characters. ‘h’ has shifted to ‘k’, ‘e’ has shifted to ‘h’ and so on. If a key of 5 were used, the resulting string would be ‘mjqqt’. This function should be capable of ignoring any characters which are not alphabets. Th2 character ‘z’ entered b\n",
    "y the user for a key of 3 would result in ‘c’.\n",
    "\n",
    "Usage:<br>\n",
    "**encrypt(‘hello world!’, 3)**<br>\n",
    "**‘khoor zruog!’**\n",
    "\n",
    "Similarly create decrypter which can decode the encryted text when provided the input text and key\n",
    "\n",
    "Usage:<br>\n",
    "**decrypt(‘khoor zruog!’, 3)**<br>\n",
    "**‘hello world!’**\n",
    "\n",
    "For the sake of simplicity you can assume that input solely consists of lowercase alphabets, spaces and punctuation symbols. Numbers in the input text would also be ignored similar to symbols."
   ]
  },
  {
   "cell_type": "code",
   "execution_count": 5,
   "metadata": {},
   "outputs": [
    {
     "name": "stdout",
     "output_type": "stream",
     "text": [
      "Enter an input2\n",
      "hello worldl\n"
     ]
    }
   ],
   "source": [
    "def encrypt(text1, shift):\n",
    "    t1 = ''\n",
    "    for i in text1: \n",
    "        if i == ' ':\n",
    "            t1 = t1 + i\n",
    "        else:\n",
    "            t1 = t1 + chr((ord(i) + shift - 97) % 26 + 97)\n",
    "    return t1\n",
    "    print(\"after encryption: \", encrypt(text1, s))\n",
    "    \n",
    "def decrypt(text2, shift):\n",
    "    t2 = ''\n",
    "    for j in text2: \n",
    "        if j == ' ':\n",
    "            t2 = t2 + j\n",
    "        else:\n",
    "            t2 = t2 + chr((ord(j) - shift - 97) % 26 + 97)\n",
    "    return t2\n",
    "    print(\"after decryption: \", decrypt(text2, s))\n",
    "    \n",
    "d= encrypt(text1=\"hello world!\",shift=3)\n",
    "e= decrypt(text2=\"khoor zruog!\",shift=3)\n",
    "\n",
    "def inp(inpt):\n",
    "    inpt=int(input(\"Enter an input\"))\n",
    "    if inpt==1:\n",
    "        print(d)\n",
    "    elif inpt==2:\n",
    "        print(e)\n",
    "    else:\n",
    "        print(\"Please enter a valid input\")\n",
    "        inp(inpt)\n",
    "inp(1)"
   ]
  },
  {
   "cell_type": "code",
   "execution_count": null,
   "metadata": {},
   "outputs": [],
   "source": []
  }
 ],
 "metadata": {
  "kernelspec": {
   "display_name": "Python 3",
   "language": "python",
   "name": "python3"
  },
  "language_info": {
   "codemirror_mode": {
    "name": "ipython",
    "version": 3
   },
   "file_extension": ".py",
   "mimetype": "text/x-python",
   "name": "python",
   "nbconvert_exporter": "python",
   "pygments_lexer": "ipython3",
   "version": "3.7.3"
  }
 },
 "nbformat": 4,
 "nbformat_minor": 2
}
