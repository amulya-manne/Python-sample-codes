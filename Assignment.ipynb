{
 "cells": [
  {
   "cell_type": "code",
   "execution_count": 2,
   "metadata": {},
   "outputs": [
    {
     "name": "stdout",
     "output_type": "stream",
     "text": [
      "Which shape would you like to calculate the area for? Please enter the option number-!\n",
      "1. Square\n",
      "2. Rectangle\n",
      "3. Triangle\n",
      "4. Circle:\n",
      "Enter Option 4\n",
      "Please enter radius of the circle : w\n",
      "Please enter a valid number\n",
      "Please enter radius of the circle : r\n",
      "Please enter a valid number\n",
      "Please enter radius of the circle : 2\n",
      "The area of circle is : 12.5668\n"
     ]
    }
   ],
   "source": [
    "print(\"Which shape would you like to calculate the area for? Please enter the option number-!\\n1. Square\\n2. Rectangle\\n3. Triangle\\n4. Circle:\")\n",
    "option = int(input(\"Enter Option \"))\n",
    "\n",
    "def square():\n",
    "    while True:\n",
    "        try:\n",
    "            n = int(input('Enter length of a side '))      \n",
    "        except ValueError:\n",
    "            print('Please enter a valid number')\n",
    "            continue\n",
    "        else:\n",
    "            print('The area of square is :', n*n)\n",
    "            break\n",
    "\n",
    "def rectangle():\n",
    "    while True:\n",
    "        try:\n",
    "            l=int(input(\"Please enter lenght of the rectangle : \"))\n",
    "            w=int(input(\"Please enter width of the rectangle : \"))      \n",
    "        except ValueError:\n",
    "            print('Please enter a valid number')\n",
    "            continue\n",
    "        else:\n",
    "            print('The area of rectangle is :', l*w)\n",
    "            break\n",
    "\n",
    "def triangle():\n",
    "    while True:\n",
    "        try:\n",
    "            h=int(input(\"Please enter height of the triangle : \"))\n",
    "            b=int(input(\"Please enter breadth of the triangle : \"))\n",
    "        except ValueError:\n",
    "            print('Please enter a valid number')\n",
    "            continue\n",
    "        else:\n",
    "            print('The area of triangle is :', h*b*0.5)\n",
    "            break\n",
    "            \n",
    "def circle():\n",
    "    while True:\n",
    "        try:\n",
    "            r=int(input(\"Please enter radius of the circle : \"))\n",
    "        except ValueError:\n",
    "            print('Please enter a valid number')\n",
    "            continue\n",
    "        else:\n",
    "            print('The area of circle is :', 3.1417*r*r)\n",
    "            break\n",
    "\n",
    "if option == 1:\n",
    "    square()\n",
    "elif option == 2:\n",
    "    rectangle()\n",
    "elif option == 3:\n",
    "    triangle()\n",
    "elif option == 4:\n",
    "    circle()"
   ]
  },
  {
   "cell_type": "code",
   "execution_count": null,
   "metadata": {},
   "outputs": [],
   "source": []
  }
 ],
 "metadata": {
  "kernelspec": {
   "display_name": "Python 3",
   "language": "python",
   "name": "python3"
  },
  "language_info": {
   "codemirror_mode": {
    "name": "ipython",
    "version": 3
   },
   "file_extension": ".py",
   "mimetype": "text/x-python",
   "name": "python",
   "nbconvert_exporter": "python",
   "pygments_lexer": "ipython3",
   "version": "3.7.3"
  }
 },
 "nbformat": 4,
 "nbformat_minor": 2
}
